{
 "cells": [
  {
   "cell_type": "code",
   "execution_count": 1,
   "metadata": {},
   "outputs": [],
   "source": [
    "import tiktoken"
   ]
  },
  {
   "cell_type": "code",
   "execution_count": 2,
   "metadata": {},
   "outputs": [],
   "source": [
    "def format_text(text):\n",
    "    \"\"\"\n",
    "    Converts multi-line text into a single line while preserving proper spacing.\n",
    "    Handles cases where words are split across lines.\n",
    "\n",
    "    Args:\n",
    "        text (str): The input multi-line text\n",
    "\n",
    "    Returns:\n",
    "        str: Formatted single-line text\n",
    "    \"\"\"\n",
    "    # Split text into lines\n",
    "    lines = text.split(\"\\n\")\n",
    "\n",
    "    # Remove empty lines and strip whitespace\n",
    "    lines = [line.strip() for line in lines if line.strip()]\n",
    "\n",
    "    # Join lines with proper spacing\n",
    "    formatted_text = \"\"\n",
    "    for i, line in enumerate(lines):\n",
    "        if i > 0:\n",
    "            # Add space only if the previous line doesn't end with hyphen\n",
    "            if not formatted_text.endswith(\"-\"):\n",
    "                formatted_text += \" \"\n",
    "        formatted_text += line\n",
    "\n",
    "    return formatted_text"
   ]
  },
  {
   "cell_type": "code",
   "execution_count": 3,
   "metadata": {},
   "outputs": [],
   "source": [
    "with open(\"wolf359_episodes_1_to_30.md\") as f:\n",
    "    input_text = f.read()"
   ]
  },
  {
   "cell_type": "code",
   "execution_count": 4,
   "metadata": {},
   "outputs": [],
   "source": [
    "formatted = format_text(input_text)\n",
    "with open(\"wolf359_episodes_1_to_30_formatted.md\", \"w\") as f:\n",
    "    f.write(formatted)"
   ]
  },
  {
   "cell_type": "code",
   "execution_count": 5,
   "metadata": {},
   "outputs": [],
   "source": [
    "def num_tokens_from_string(string, encoding):\n",
    "    \"\"\"\n",
    "    Returns the number of tokens in a text string, formatted with K/M suffixes.\n",
    "    Examples: 1500 -> 1.5K, 1500000 -> 1.5M\n",
    "    \"\"\"\n",
    "    num_tokens = len(encoding.encode(string))\n",
    "\n",
    "    if num_tokens >= 1_000_000:\n",
    "        return f\"{num_tokens/1_000_000:.1f}M\"\n",
    "    elif num_tokens >= 1_000:\n",
    "        return f\"{num_tokens/1_000:.1f}K\"\n",
    "    else:\n",
    "        return str(num_tokens)"
   ]
  },
  {
   "cell_type": "code",
   "execution_count": 6,
   "metadata": {},
   "outputs": [],
   "source": [
    "encoding = tiktoken.encoding_for_model(\"gpt-4o\")"
   ]
  },
  {
   "cell_type": "code",
   "execution_count": 7,
   "metadata": {},
   "outputs": [
    {
     "data": {
      "text/plain": [
       "'186.7K'"
      ]
     },
     "execution_count": 7,
     "metadata": {},
     "output_type": "execute_result"
    }
   ],
   "source": [
    "num_tokens_from_string(input_text, encoding)"
   ]
  },
  {
   "cell_type": "code",
   "execution_count": 8,
   "metadata": {},
   "outputs": [
    {
     "data": {
      "text/plain": [
       "'161.5K'"
      ]
     },
     "execution_count": 8,
     "metadata": {},
     "output_type": "execute_result"
    }
   ],
   "source": [
    "num_tokens_from_string(formatted, encoding)"
   ]
  },
  {
   "cell_type": "code",
   "execution_count": null,
   "metadata": {},
   "outputs": [],
   "source": []
  }
 ],
 "metadata": {
  "kernelspec": {
   "display_name": "base",
   "language": "python",
   "name": "python3"
  },
  "language_info": {
   "codemirror_mode": {
    "name": "ipython",
    "version": 3
   },
   "file_extension": ".py",
   "mimetype": "text/x-python",
   "name": "python",
   "nbconvert_exporter": "python",
   "pygments_lexer": "ipython3",
   "version": "3.10.9"
  }
 },
 "nbformat": 4,
 "nbformat_minor": 2
}
